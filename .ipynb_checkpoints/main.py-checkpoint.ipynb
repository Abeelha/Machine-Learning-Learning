{
 "cells": [
  {
   "cell_type": "code",
   "execution_count": 1,
   "id": "d521b4d8-1577-4a61-b5e4-be6d46823786",
   "metadata": {
    "tags": []
   },
   "outputs": [
    {
     "name": "stdout",
     "output_type": "stream",
     "text": [
      "Hello AI\n"
     ]
    }
   ],
   "source": [
    "print(\"Hello AI\")"
   ]
  },
  {
   "cell_type": "code",
   "execution_count": null,
   "id": "38472e53-404c-4bbc-9968-80f33a0b6b67",
   "metadata": {},
   "outputs": [],
   "source": [
    "import pandas as pd\n",
    "\n",
    "# Load data from a CSV file into a DataFrame\n",
    "df = pd.read_csv('data.csv')\n",
    "\n",
    "# Display basic information about the DataFrame\n",
    "print(\"First 5 rows of the DataFrame:\")\n",
    "print(df.head())\n",
    "\n",
    "# Summary statistics\n",
    "print(\"\\nSummary statistics:\")\n",
    "print(df.describe())\n",
    "\n",
    "# Filtering data\n",
    "young_adults = df[df['Age'] <= 30]\n",
    "\n",
    "# Grouping and aggregation\n",
    "age_group_stats = df.groupby('Age')['Income'].agg(['mean', 'median', 'std'])\n",
    "\n",
    "# Sorting\n",
    "sorted_df = df.sort_values(by=['Age', 'Income'], ascending=[True, False])\n",
    "\n",
    "# Adding a new column\n",
    "df['IncomeCategory'] = pd.cut(df['Income'], bins=[0, 30000, 60000, 90000, 120000], labels=['Low', 'Moderate', 'High', 'Very High'])\n",
    "\n",
    "# Data visualization\n",
    "import matplotlib.pyplot as plt\n",
    "df['IncomeCategory'].value_counts().plot(kind='bar')\n",
    "plt.title('Income Categories')\n",
    "plt.xlabel('Category')\n",
    "plt.ylabel('Count')\n",
    "plt.show()\n"
   ]
  }
 ],
 "metadata": {
  "kernelspec": {
   "display_name": "Python 3 (ipykernel)",
   "language": "python",
   "name": "python3"
  },
  "language_info": {
   "codemirror_mode": {
    "name": "ipython",
    "version": 3
   },
   "file_extension": ".py",
   "mimetype": "text/x-python",
   "name": "python",
   "nbconvert_exporter": "python",
   "pygments_lexer": "ipython3",
   "version": "3.11.5"
  }
 },
 "nbformat": 4,
 "nbformat_minor": 5
}
